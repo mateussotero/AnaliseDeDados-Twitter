{
  "cells": [
    {
      "cell_type": "markdown",
      "metadata": {
        "id": "plN6fbbw7ff7"
      },
      "source": [
        "# Extraindo Tweets com SNSCRAPE em Python"
      ]
    },
    {
      "cell_type": "code",
      "execution_count": 5,
      "metadata": {
        "colab": {
          "base_uri": "https://localhost:8080/"
        },
        "id": "CeoryS0lmBPr",
        "outputId": "cc5b85fd-402a-49b2-9c49-12b07e680f21"
      },
      "outputs": [
        {
          "name": "stdout",
          "output_type": "stream",
          "text": [
            "^C\n"
          ]
        }
      ],
      "source": [
        "!pip3 uninstall snscrape"
      ]
    },
    {
      "cell_type": "code",
      "execution_count": 1,
      "metadata": {
        "id": "maY5i6ydUxtQ"
      },
      "outputs": [],
      "source": [
        "import snscrape.modules.twitter as sntwitter\n",
        "import pandas as pd"
      ]
    },
    {
      "cell_type": "code",
      "execution_count": null,
      "metadata": {
        "id": "sswhznZAUxwA"
      },
      "outputs": [],
      "source": [
        "# query = 'politica AND brasil OR governo federal OR presidente AND brasil OR ministro AND brasil OR deputado federal AND brasil OR senador AND brasil lang:\"pt\" since:2012-01-01 until:2012-01-01'\n",
        "# maxTweets = 30000\n",
        "# i = 0\n",
        "# tweets_list = []\n",
        "# for tweet in sntwitter.TwitterSearchScraper(query).get_items():\n",
        "#   if i > maxTweets:\n",
        "#     break\n",
        "#   tweets_list.append([tweet.date, tweet.url, tweet.username, tweet.content])\n",
        "#   i = i + 1\n"
      ]
    },
    {
      "cell_type": "code",
      "execution_count": 291,
      "metadata": {},
      "outputs": [
        {
          "name": "stderr",
          "output_type": "stream",
          "text": [
            "C:\\Users\\Usuario\\AppData\\Local\\Temp/ipykernel_11476/1808979987.py:4: FutureWarning: username is deprecated, use user.username instead\n",
            "  tweets_list.append([tweet.date, tweet.url, tweet.username, tweet.content])\n",
            "C:\\Users\\Usuario\\AppData\\Local\\Temp/ipykernel_11476/1808979987.py:4: FutureWarning: content is deprecated, use rawContent instead\n",
            "  tweets_list.append([tweet.date, tweet.url, tweet.username, tweet.content])\n"
          ]
        }
      ],
      "source": [
        "query = '\"politica\" \"brasil\" lang:pt until:2023-01-01 since:2022-12-31'\n",
        "tweets_list = []\n",
        "for tweet in sntwitter.TwitterSearchScraper(query).get_items():\n",
        "  tweets_list.append([tweet.date, tweet.url, tweet.username, tweet.content])"
      ]
    },
    {
      "cell_type": "code",
      "execution_count": 292,
      "metadata": {
        "id": "ktVL9gw8UxyT"
      },
      "outputs": [],
      "source": [
        "tweets_df = pd.DataFrame(tweets_list, columns=['date', 'url','username', 'content' ])"
      ]
    },
    {
      "cell_type": "code",
      "execution_count": null,
      "metadata": {},
      "outputs": [],
      "source": [
        "tweets_df"
      ]
    },
    {
      "cell_type": "code",
      "execution_count": 293,
      "metadata": {
        "colab": {
          "base_uri": "https://localhost:8080/",
          "height": 424
        },
        "id": "RKQvKddRUx04",
        "outputId": "9668c7e8-fd61-4e30-aa75-b5b03941b515"
      },
      "outputs": [],
      "source": [
        "tweets_df.to_csv('tweet31-12-2022.csv')"
      ]
    },
    {
      "cell_type": "code",
      "execution_count": 21,
      "metadata": {},
      "outputs": [
        {
          "data": {
            "text/html": [
              "<div>\n",
              "<style scoped>\n",
              "    .dataframe tbody tr th:only-of-type {\n",
              "        vertical-align: middle;\n",
              "    }\n",
              "\n",
              "    .dataframe tbody tr th {\n",
              "        vertical-align: top;\n",
              "    }\n",
              "\n",
              "    .dataframe thead th {\n",
              "        text-align: right;\n",
              "    }\n",
              "</style>\n",
              "<table border=\"1\" class=\"dataframe\">\n",
              "  <thead>\n",
              "    <tr style=\"text-align: right;\">\n",
              "      <th></th>\n",
              "      <th>Unnamed: 0</th>\n",
              "      <th>date</th>\n",
              "      <th>url</th>\n",
              "      <th>username</th>\n",
              "      <th>content</th>\n",
              "    </tr>\n",
              "  </thead>\n",
              "  <tbody>\n",
              "    <tr>\n",
              "      <th>0</th>\n",
              "      <td>0</td>\n",
              "      <td>2022-11-29 23:59:37+00:00</td>\n",
              "      <td>https://twitter.com/Cleiton_Eduard/status/1597...</td>\n",
              "      <td>Cleiton_Eduard</td>\n",
              "      <td>@TerraBrasilnot Acorda povo, o Brasil não tem ...</td>\n",
              "    </tr>\n",
              "    <tr>\n",
              "      <th>1</th>\n",
              "      <td>1</td>\n",
              "      <td>2022-11-29 23:59:02+00:00</td>\n",
              "      <td>https://twitter.com/oliveiradlucian/status/159...</td>\n",
              "      <td>oliveiradlucian</td>\n",
              "      <td>@ClaudioBlades @ssantos_allan @AleStealth_ @ra...</td>\n",
              "    </tr>\n",
              "    <tr>\n",
              "      <th>2</th>\n",
              "      <td>2</td>\n",
              "      <td>2022-11-29 23:57:56+00:00</td>\n",
              "      <td>https://twitter.com/airtonjo/status/1597741683...</td>\n",
              "      <td>airtonjo</td>\n",
              "      <td>O ódio como política: a reinvenção das direita...</td>\n",
              "    </tr>\n",
              "    <tr>\n",
              "      <th>3</th>\n",
              "      <td>3</td>\n",
              "      <td>2022-11-29 23:51:34+00:00</td>\n",
              "      <td>https://twitter.com/PedroMuniz38/status/159774...</td>\n",
              "      <td>PedroMuniz38</td>\n",
              "      <td>@GloboNews @ECantanhede @eulilianribeiro Esse ...</td>\n",
              "    </tr>\n",
              "    <tr>\n",
              "      <th>4</th>\n",
              "      <td>4</td>\n",
              "      <td>2022-11-29 23:51:00+00:00</td>\n",
              "      <td>https://twitter.com/felipecarreras/status/1597...</td>\n",
              "      <td>felipecarreras</td>\n",
              "      <td>O apoio do PSB, PT, PV e do PCdoB a reeleição ...</td>\n",
              "    </tr>\n",
              "    <tr>\n",
              "      <th>...</th>\n",
              "      <td>...</td>\n",
              "      <td>...</td>\n",
              "      <td>...</td>\n",
              "      <td>...</td>\n",
              "      <td>...</td>\n",
              "    </tr>\n",
              "    <tr>\n",
              "      <th>43470</th>\n",
              "      <td>43470</td>\n",
              "      <td>2022-11-01 00:01:41+00:00</td>\n",
              "      <td>https://twitter.com/_MateusNO/status/158723337...</td>\n",
              "      <td>_MateusNO</td>\n",
              "      <td>@dv_gustauz @peperonni_97 O Brasil tem a 47ª p...</td>\n",
              "    </tr>\n",
              "    <tr>\n",
              "      <th>43471</th>\n",
              "      <td>43471</td>\n",
              "      <td>2022-11-01 00:01:23+00:00</td>\n",
              "      <td>https://twitter.com/Fannybaunilha_/status/1587...</td>\n",
              "      <td>Fannybaunilha_</td>\n",
              "      <td>@NyviEstephan E eu que falei no insta “boa lou...</td>\n",
              "    </tr>\n",
              "    <tr>\n",
              "      <th>43472</th>\n",
              "      <td>43472</td>\n",
              "      <td>2022-11-01 00:01:17+00:00</td>\n",
              "      <td>https://twitter.com/nando_J_2020/status/158723...</td>\n",
              "      <td>nando_J_2020</td>\n",
              "      <td>Não percamos a FÉ, pois cremos e lutaremos por...</td>\n",
              "    </tr>\n",
              "    <tr>\n",
              "      <th>43473</th>\n",
              "      <td>43473</td>\n",
              "      <td>2022-11-01 00:01:12+00:00</td>\n",
              "      <td>https://twitter.com/PamelaGui30/status/1587233...</td>\n",
              "      <td>PamelaGui30</td>\n",
              "      <td>@simonetebetbr @LulaOficial A política do Bras...</td>\n",
              "    </tr>\n",
              "    <tr>\n",
              "      <th>43474</th>\n",
              "      <td>43474</td>\n",
              "      <td>2022-11-01 00:00:29+00:00</td>\n",
              "      <td>https://twitter.com/JovemPanNews/status/158723...</td>\n",
              "      <td>JovemPanNews</td>\n",
              "      <td>Líderes dos dois países demonstraram interesse...</td>\n",
              "    </tr>\n",
              "  </tbody>\n",
              "</table>\n",
              "<p>43475 rows × 5 columns</p>\n",
              "</div>"
            ],
            "text/plain": [
              "       Unnamed: 0                       date  \\\n",
              "0               0  2022-11-29 23:59:37+00:00   \n",
              "1               1  2022-11-29 23:59:02+00:00   \n",
              "2               2  2022-11-29 23:57:56+00:00   \n",
              "3               3  2022-11-29 23:51:34+00:00   \n",
              "4               4  2022-11-29 23:51:00+00:00   \n",
              "...           ...                        ...   \n",
              "43470       43470  2022-11-01 00:01:41+00:00   \n",
              "43471       43471  2022-11-01 00:01:23+00:00   \n",
              "43472       43472  2022-11-01 00:01:17+00:00   \n",
              "43473       43473  2022-11-01 00:01:12+00:00   \n",
              "43474       43474  2022-11-01 00:00:29+00:00   \n",
              "\n",
              "                                                     url         username  \\\n",
              "0      https://twitter.com/Cleiton_Eduard/status/1597...   Cleiton_Eduard   \n",
              "1      https://twitter.com/oliveiradlucian/status/159...  oliveiradlucian   \n",
              "2      https://twitter.com/airtonjo/status/1597741683...         airtonjo   \n",
              "3      https://twitter.com/PedroMuniz38/status/159774...     PedroMuniz38   \n",
              "4      https://twitter.com/felipecarreras/status/1597...   felipecarreras   \n",
              "...                                                  ...              ...   \n",
              "43470  https://twitter.com/_MateusNO/status/158723337...        _MateusNO   \n",
              "43471  https://twitter.com/Fannybaunilha_/status/1587...   Fannybaunilha_   \n",
              "43472  https://twitter.com/nando_J_2020/status/158723...     nando_J_2020   \n",
              "43473  https://twitter.com/PamelaGui30/status/1587233...      PamelaGui30   \n",
              "43474  https://twitter.com/JovemPanNews/status/158723...     JovemPanNews   \n",
              "\n",
              "                                                 content  \n",
              "0      @TerraBrasilnot Acorda povo, o Brasil não tem ...  \n",
              "1      @ClaudioBlades @ssantos_allan @AleStealth_ @ra...  \n",
              "2      O ódio como política: a reinvenção das direita...  \n",
              "3      @GloboNews @ECantanhede @eulilianribeiro Esse ...  \n",
              "4      O apoio do PSB, PT, PV e do PCdoB a reeleição ...  \n",
              "...                                                  ...  \n",
              "43470  @dv_gustauz @peperonni_97 O Brasil tem a 47ª p...  \n",
              "43471  @NyviEstephan E eu que falei no insta “boa lou...  \n",
              "43472  Não percamos a FÉ, pois cremos e lutaremos por...  \n",
              "43473  @simonetebetbr @LulaOficial A política do Bras...  \n",
              "43474  Líderes dos dois países demonstraram interesse...  \n",
              "\n",
              "[43475 rows x 5 columns]"
            ]
          },
          "execution_count": 21,
          "metadata": {},
          "output_type": "execute_result"
        }
      ],
      "source": [
        "#query = '((\"politica\" \"brasil\") OR (\"presidente\" \"brasil\") OR (\"governo federal\") OR (\"ministro\" \"brasil\") OR (\"deputado federal\") OR (\"senador\" \"brasil\")) lang:\"pt\" lang:\"pt\" since:2012-01-01 until:2012-01-02'\n",
        "\n",
        "df = pd.read_csv('tweet1-30-11-2022.csv')\n",
        "df"
      ]
    },
    {
      "cell_type": "code",
      "execution_count": null,
      "metadata": {
        "id": "MqPXYj25ltKy"
      },
      "outputs": [],
      "source": [
        "import csv\n",
        "import nltk\n",
        "from nltk.tokenize import word_tokenize \n",
        "from wordcloud import WordCloud\n",
        "import numpy as np\n",
        "from PIL import Image\n",
        "import matplotlib.pyplot as plt"
      ]
    },
    {
      "cell_type": "code",
      "execution_count": null,
      "metadata": {
        "colab": {
          "base_uri": "https://localhost:8080/"
        },
        "id": "lwD4gT6IozLw",
        "outputId": "42ff07a4-2b0c-45e0-8317-fa01fbf099eb"
      },
      "outputs": [],
      "source": [
        "nltk.download('punkt')\n",
        "nltk.download('stopwords')"
      ]
    },
    {
      "cell_type": "code",
      "execution_count": null,
      "metadata": {
        "colab": {
          "base_uri": "https://localhost:8080/",
          "height": 424
        },
        "id": "6MrXQlYVV-3J",
        "outputId": "7800824b-dfa8-4553-b0c7-f2f32d1d5a10"
      },
      "outputs": [],
      "source": [
        "tweets_df"
      ]
    },
    {
      "cell_type": "code",
      "execution_count": null,
      "metadata": {
        "id": "G3RQhbfQltKz"
      },
      "outputs": [],
      "source": [
        "stop_words = nltk.corpus.stopwords.words('portuguese')\n",
        "stop_words = stop_words + list([ ',','.','https', ':','!', '#', '@', '?', '/', 'O', 'vai', '|', '–','pra', 'a', 'e', '-'])"
      ]
    },
    {
      "cell_type": "code",
      "execution_count": null,
      "metadata": {
        "id": "N2rvXFRWZyLK"
      },
      "outputs": [],
      "source": [
        "# stop_words"
      ]
    },
    {
      "cell_type": "code",
      "execution_count": null,
      "metadata": {
        "id": "13AckdblX4PN"
      },
      "outputs": [],
      "source": [
        "def remove_stopwords(x):\n",
        "  word_tokens = nltk.word_tokenize(x)\n",
        "  # print(word_tokens)\n",
        "  filtered_sentence = ' '.join([w for w in word_tokens if not (w in stop_words or len(w)<4)]) \n",
        "  return filtered_sentence"
      ]
    },
    {
      "cell_type": "code",
      "execution_count": null,
      "metadata": {
        "colab": {
          "base_uri": "https://localhost:8080/",
          "height": 35
        },
        "id": "tVCAMhbCZV2i",
        "outputId": "13166c07-5470-4d09-92a7-ed2e3197ec44"
      },
      "outputs": [],
      "source": [
        "remove_stopwords('a conversa @ Monark , , Ciro reafirmou pretende')"
      ]
    },
    {
      "cell_type": "code",
      "execution_count": null,
      "metadata": {
        "id": "Z0DRi_HQltKy"
      },
      "outputs": [],
      "source": [
        "tweets_df['filtered_text'] = tweets_df['content'].apply(lambda x: remove_stopwords(x))"
      ]
    },
    {
      "cell_type": "code",
      "execution_count": null,
      "metadata": {
        "colab": {
          "base_uri": "https://localhost:8080/"
        },
        "id": "Tr8A8ErfYa18",
        "outputId": "b9fc1aec-a6ff-4018-cbad-9adac83c2907"
      },
      "outputs": [],
      "source": [
        "tweets_df['filtered_text']"
      ]
    },
    {
      "cell_type": "code",
      "execution_count": null,
      "metadata": {
        "colab": {
          "base_uri": "https://localhost:8080/"
        },
        "id": "x7JI88C1WiF4",
        "outputId": "3856ee8e-cf8c-4a1e-ec4d-51a27a4714be"
      },
      "outputs": [],
      "source": [
        "pd.Series(' '.join(tweets_df['filtered_text'].str.lower()).split()).value_counts()[:20]"
      ]
    }
  ],
  "metadata": {
    "colab": {
      "provenance": []
    },
    "kernelspec": {
      "display_name": "Python 3.9.6 64-bit",
      "language": "python",
      "name": "python3"
    },
    "language_info": {
      "codemirror_mode": {
        "name": "ipython",
        "version": 3
      },
      "file_extension": ".py",
      "mimetype": "text/x-python",
      "name": "python",
      "nbconvert_exporter": "python",
      "pygments_lexer": "ipython3",
      "version": "3.9.6"
    },
    "vscode": {
      "interpreter": {
        "hash": "4a642a9a94d05d387b7a27be99b5a4ff6656c8c24931cc81c2f78dd14cfb5dc8"
      }
    }
  },
  "nbformat": 4,
  "nbformat_minor": 0
}
